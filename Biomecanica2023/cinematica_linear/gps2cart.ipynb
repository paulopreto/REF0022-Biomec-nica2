{
  "nbformat": 4,
  "nbformat_minor": 0,
  "metadata": {
    "colab": {
      "provenance": [],
      "authorship_tag": "ABX9TyND0sssMMeJvxKiWhHaLLcZ",
      "include_colab_link": true
    },
    "kernelspec": {
      "name": "python3",
      "display_name": "Python 3"
    },
    "language_info": {
      "name": "python"
    }
  },
  "cells": [
    {
      "cell_type": "markdown",
      "metadata": {
        "id": "view-in-github",
        "colab_type": "text"
      },
      "source": [
        "<a href=\"https://colab.research.google.com/github/paulopreto/REF0161-Biomecanica2/blob/main/Biomecanica2023/cinematica_linear/Copy_of_gps2cart.ipynb\" target=\"_parent\"><img src=\"https://colab.research.google.com/assets/colab-badge.svg\" alt=\"Open In Colab\"/></a>"
      ]
    },
    {
      "cell_type": "code",
      "source": [
        "# Conversão de Coordenadas GPS para ECEF (X, Y, Z) no Google Colab\n",
        "\n",
        "## 1. Importação das bibliotecas necessárias\n",
        "\n",
        "import math\n",
        "import numpy as np\n",
        "import csv\n",
        "from google.colab import files\n"
      ],
      "metadata": {
        "id": "HnSBOzGy7JEh"
      },
      "execution_count": null,
      "outputs": []
    },
    {
      "cell_type": "code",
      "execution_count": null,
      "metadata": {
        "id": "GN6T7YZE518Y"
      },
      "outputs": [],
      "source": [
        "# Constantes para o elipsoide WGS 84\n",
        "a = 6378137.0  # semi-major axis in meters\n",
        "f = 1 / 298.257223563  # flattening\n",
        "e2 = 1 - (1 - f) * (1 - f)  # square of eccentricity\n",
        "\n",
        "def geodetic_to_ecef(lat, lon, alt):\n",
        "    \"\"\"\n",
        "    Convert geodetic coordinates to ECEF.\n",
        "    \"\"\"\n",
        "    lat, lon = np.deg2rad(lat), np.deg2rad(lon)\n",
        "    sin_lat = np.sin(lat)\n",
        "    N = a / np.sqrt(1 - e2 * sin_lat**2)\n",
        "    x = (N + alt) * np.cos(lat) * np.cos(lon)\n",
        "    y = (N + alt) * np.cos(lat) * np.sin(lon)\n",
        "    z = ((1 - e2) * N + alt) * sin_lat\n",
        "    return x, y, z\n",
        "\n",
        "def transform_data_to_ecef(data):\n",
        "    \"\"\"\n",
        "    Transform matrix of data with columns [lat, lon, alt] to ECEF [x, y, z].\n",
        "    \"\"\"\n",
        "    ecef_data = np.zeros(data.shape)\n",
        "    for i, (lat, lon, alt) in enumerate(data):\n",
        "        x, y, z = geodetic_to_ecef(lat, lon, alt)\n",
        "        ecef_data[i] = [x, y, z]\n",
        "    return ecef_data\n"
      ]
    },
    {
      "cell_type": "code",
      "source": [
        "#uploaded = files.upload()\n",
        "#filename = list(uploaded.keys())[0]"
      ],
      "metadata": {
        "colab": {
          "base_uri": "https://localhost:8080/",
          "height": 79
        },
        "id": "klhip-dm6LDO",
        "outputId": "8927e307-9144-4e77-b79d-2e57abeee56d"
      },
      "execution_count": null,
      "outputs": [
        {
          "output_type": "display_data",
          "data": {
            "text/plain": [
              "<IPython.core.display.HTML object>"
            ],
            "text/html": [
              "\n",
              "     <input type=\"file\" id=\"files-af44366b-3238-473e-99d4-77b62178e067\" name=\"files[]\" multiple disabled\n",
              "        style=\"border:none\" />\n",
              "     <output id=\"result-af44366b-3238-473e-99d4-77b62178e067\">\n",
              "      Upload widget is only available when the cell has been executed in the\n",
              "      current browser session. Please rerun this cell to enable.\n",
              "      </output>\n",
              "      <script>// Copyright 2017 Google LLC\n",
              "//\n",
              "// Licensed under the Apache License, Version 2.0 (the \"License\");\n",
              "// you may not use this file except in compliance with the License.\n",
              "// You may obtain a copy of the License at\n",
              "//\n",
              "//      http://www.apache.org/licenses/LICENSE-2.0\n",
              "//\n",
              "// Unless required by applicable law or agreed to in writing, software\n",
              "// distributed under the License is distributed on an \"AS IS\" BASIS,\n",
              "// WITHOUT WARRANTIES OR CONDITIONS OF ANY KIND, either express or implied.\n",
              "// See the License for the specific language governing permissions and\n",
              "// limitations under the License.\n",
              "\n",
              "/**\n",
              " * @fileoverview Helpers for google.colab Python module.\n",
              " */\n",
              "(function(scope) {\n",
              "function span(text, styleAttributes = {}) {\n",
              "  const element = document.createElement('span');\n",
              "  element.textContent = text;\n",
              "  for (const key of Object.keys(styleAttributes)) {\n",
              "    element.style[key] = styleAttributes[key];\n",
              "  }\n",
              "  return element;\n",
              "}\n",
              "\n",
              "// Max number of bytes which will be uploaded at a time.\n",
              "const MAX_PAYLOAD_SIZE = 100 * 1024;\n",
              "\n",
              "function _uploadFiles(inputId, outputId) {\n",
              "  const steps = uploadFilesStep(inputId, outputId);\n",
              "  const outputElement = document.getElementById(outputId);\n",
              "  // Cache steps on the outputElement to make it available for the next call\n",
              "  // to uploadFilesContinue from Python.\n",
              "  outputElement.steps = steps;\n",
              "\n",
              "  return _uploadFilesContinue(outputId);\n",
              "}\n",
              "\n",
              "// This is roughly an async generator (not supported in the browser yet),\n",
              "// where there are multiple asynchronous steps and the Python side is going\n",
              "// to poll for completion of each step.\n",
              "// This uses a Promise to block the python side on completion of each step,\n",
              "// then passes the result of the previous step as the input to the next step.\n",
              "function _uploadFilesContinue(outputId) {\n",
              "  const outputElement = document.getElementById(outputId);\n",
              "  const steps = outputElement.steps;\n",
              "\n",
              "  const next = steps.next(outputElement.lastPromiseValue);\n",
              "  return Promise.resolve(next.value.promise).then((value) => {\n",
              "    // Cache the last promise value to make it available to the next\n",
              "    // step of the generator.\n",
              "    outputElement.lastPromiseValue = value;\n",
              "    return next.value.response;\n",
              "  });\n",
              "}\n",
              "\n",
              "/**\n",
              " * Generator function which is called between each async step of the upload\n",
              " * process.\n",
              " * @param {string} inputId Element ID of the input file picker element.\n",
              " * @param {string} outputId Element ID of the output display.\n",
              " * @return {!Iterable<!Object>} Iterable of next steps.\n",
              " */\n",
              "function* uploadFilesStep(inputId, outputId) {\n",
              "  const inputElement = document.getElementById(inputId);\n",
              "  inputElement.disabled = false;\n",
              "\n",
              "  const outputElement = document.getElementById(outputId);\n",
              "  outputElement.innerHTML = '';\n",
              "\n",
              "  const pickedPromise = new Promise((resolve) => {\n",
              "    inputElement.addEventListener('change', (e) => {\n",
              "      resolve(e.target.files);\n",
              "    });\n",
              "  });\n",
              "\n",
              "  const cancel = document.createElement('button');\n",
              "  inputElement.parentElement.appendChild(cancel);\n",
              "  cancel.textContent = 'Cancel upload';\n",
              "  const cancelPromise = new Promise((resolve) => {\n",
              "    cancel.onclick = () => {\n",
              "      resolve(null);\n",
              "    };\n",
              "  });\n",
              "\n",
              "  // Wait for the user to pick the files.\n",
              "  const files = yield {\n",
              "    promise: Promise.race([pickedPromise, cancelPromise]),\n",
              "    response: {\n",
              "      action: 'starting',\n",
              "    }\n",
              "  };\n",
              "\n",
              "  cancel.remove();\n",
              "\n",
              "  // Disable the input element since further picks are not allowed.\n",
              "  inputElement.disabled = true;\n",
              "\n",
              "  if (!files) {\n",
              "    return {\n",
              "      response: {\n",
              "        action: 'complete',\n",
              "      }\n",
              "    };\n",
              "  }\n",
              "\n",
              "  for (const file of files) {\n",
              "    const li = document.createElement('li');\n",
              "    li.append(span(file.name, {fontWeight: 'bold'}));\n",
              "    li.append(span(\n",
              "        `(${file.type || 'n/a'}) - ${file.size} bytes, ` +\n",
              "        `last modified: ${\n",
              "            file.lastModifiedDate ? file.lastModifiedDate.toLocaleDateString() :\n",
              "                                    'n/a'} - `));\n",
              "    const percent = span('0% done');\n",
              "    li.appendChild(percent);\n",
              "\n",
              "    outputElement.appendChild(li);\n",
              "\n",
              "    const fileDataPromise = new Promise((resolve) => {\n",
              "      const reader = new FileReader();\n",
              "      reader.onload = (e) => {\n",
              "        resolve(e.target.result);\n",
              "      };\n",
              "      reader.readAsArrayBuffer(file);\n",
              "    });\n",
              "    // Wait for the data to be ready.\n",
              "    let fileData = yield {\n",
              "      promise: fileDataPromise,\n",
              "      response: {\n",
              "        action: 'continue',\n",
              "      }\n",
              "    };\n",
              "\n",
              "    // Use a chunked sending to avoid message size limits. See b/62115660.\n",
              "    let position = 0;\n",
              "    do {\n",
              "      const length = Math.min(fileData.byteLength - position, MAX_PAYLOAD_SIZE);\n",
              "      const chunk = new Uint8Array(fileData, position, length);\n",
              "      position += length;\n",
              "\n",
              "      const base64 = btoa(String.fromCharCode.apply(null, chunk));\n",
              "      yield {\n",
              "        response: {\n",
              "          action: 'append',\n",
              "          file: file.name,\n",
              "          data: base64,\n",
              "        },\n",
              "      };\n",
              "\n",
              "      let percentDone = fileData.byteLength === 0 ?\n",
              "          100 :\n",
              "          Math.round((position / fileData.byteLength) * 100);\n",
              "      percent.textContent = `${percentDone}% done`;\n",
              "\n",
              "    } while (position < fileData.byteLength);\n",
              "  }\n",
              "\n",
              "  // All done.\n",
              "  yield {\n",
              "    response: {\n",
              "      action: 'complete',\n",
              "    }\n",
              "  };\n",
              "}\n",
              "\n",
              "scope.google = scope.google || {};\n",
              "scope.google.colab = scope.google.colab || {};\n",
              "scope.google.colab._files = {\n",
              "  _uploadFiles,\n",
              "  _uploadFilesContinue,\n",
              "};\n",
              "})(self);\n",
              "</script> "
            ]
          },
          "metadata": {}
        },
        {
          "output_type": "stream",
          "name": "stdout",
          "text": [
            "Saving file.csv to file.csv\n"
          ]
        }
      ]
    },
    {
      "cell_type": "code",
      "source": [
        "## Load data from CSV\n",
        "#data = np.genfromtxt(filename, delimiter=',', skip_header=1)\n",
        "#print(data.shape)\n",
        "#print(data)  # mostrar as primeiras 5 linhas\n",
        "\n"
      ],
      "metadata": {
        "colab": {
          "base_uri": "https://localhost:8080/"
        },
        "id": "N882UzLl6VdW",
        "outputId": "45016065-f7f8-40df-999b-224564f5f5e6"
      },
      "execution_count": null,
      "outputs": [
        {
          "output_type": "stream",
          "name": "stdout",
          "text": [
            "(2, 3)\n",
            "[[ 40.72884994 -73.9844431    0.        ]\n",
            " [ 40.72605014 -73.98352471   0.        ]]\n"
          ]
        }
      ]
    },
    {
      "cell_type": "code",
      "source": [
        "\n",
        "## Convert to ECEF\n",
        "#ecef_data = transform_data_to_ecef(data)\n",
        "\n",
        "## Save the result to a new CSV\n",
        "#output_filename = \"output_ecef.csv\"\n",
        "#with open(output_filename, 'w', newline='') as file:\n",
        "#    writer = csv.writer(file)\n",
        "#    writer.writerow(['X', 'Y', 'Z'])  # header\n",
        "#    writer.writerows(ecef_data)\n",
        "\n",
        "#files.download(output_filename)"
      ],
      "metadata": {
        "colab": {
          "base_uri": "https://localhost:8080/",
          "height": 17
        },
        "id": "C1ZMHW_s9SZK",
        "outputId": "8b082a9e-2722-4d0c-cd88-dab109958782"
      },
      "execution_count": null,
      "outputs": [
        {
          "output_type": "display_data",
          "data": {
            "text/plain": [
              "<IPython.core.display.Javascript object>"
            ],
            "application/javascript": [
              "\n",
              "    async function download(id, filename, size) {\n",
              "      if (!google.colab.kernel.accessAllowed) {\n",
              "        return;\n",
              "      }\n",
              "      const div = document.createElement('div');\n",
              "      const label = document.createElement('label');\n",
              "      label.textContent = `Downloading \"${filename}\": `;\n",
              "      div.appendChild(label);\n",
              "      const progress = document.createElement('progress');\n",
              "      progress.max = size;\n",
              "      div.appendChild(progress);\n",
              "      document.body.appendChild(div);\n",
              "\n",
              "      const buffers = [];\n",
              "      let downloaded = 0;\n",
              "\n",
              "      const channel = await google.colab.kernel.comms.open(id);\n",
              "      // Send a message to notify the kernel that we're ready.\n",
              "      channel.send({})\n",
              "\n",
              "      for await (const message of channel.messages) {\n",
              "        // Send a message to notify the kernel that we're ready.\n",
              "        channel.send({})\n",
              "        if (message.buffers) {\n",
              "          for (const buffer of message.buffers) {\n",
              "            buffers.push(buffer);\n",
              "            downloaded += buffer.byteLength;\n",
              "            progress.value = downloaded;\n",
              "          }\n",
              "        }\n",
              "      }\n",
              "      const blob = new Blob(buffers, {type: 'application/binary'});\n",
              "      const a = document.createElement('a');\n",
              "      a.href = window.URL.createObjectURL(blob);\n",
              "      a.download = filename;\n",
              "      div.appendChild(a);\n",
              "      a.click();\n",
              "      div.remove();\n",
              "    }\n",
              "  "
            ]
          },
          "metadata": {}
        },
        {
          "output_type": "display_data",
          "data": {
            "text/plain": [
              "<IPython.core.display.Javascript object>"
            ],
            "application/javascript": [
              "download(\"download_861ee755-2d2f-411d-80ad-0a388dabc9e9\", \"output_ecef.csv\", 123)"
            ]
          },
          "metadata": {}
        }
      ]
    },
    {
      "cell_type": "code",
      "source": [
        "#ecef_data"
      ],
      "metadata": {
        "colab": {
          "base_uri": "https://localhost:8080/"
        },
        "id": "1PxJpRQX9PR3",
        "outputId": "29fc8151-73d2-4d87-e424-07d15668b509"
      },
      "execution_count": null,
      "outputs": [
        {
          "output_type": "execute_result",
          "data": {
            "text/plain": [
              "array([[ 1335428.59610553, -4652425.00033013,  4139651.05591397],\n",
              "       [ 1335559.14134636, -4652598.57961767,  4139415.43787856]])"
            ]
          },
          "metadata": {},
          "execution_count": 74
        }
      ]
    },
    {
      "cell_type": "code",
      "source": [
        "#np.linalg.norm(ecef_data[1,:] - ecef_data[0,:])"
      ],
      "metadata": {
        "colab": {
          "base_uri": "https://localhost:8080/"
        },
        "id": "0uaMxbz6-RNC",
        "outputId": "8db3a4c8-b90f-46ac-f30a-22b5ac5a3463"
      },
      "execution_count": null,
      "outputs": [
        {
          "output_type": "execute_result",
          "data": {
            "text/plain": [
              "320.4491965610034"
            ]
          },
          "metadata": {},
          "execution_count": 62
        }
      ]
    },
    {
      "cell_type": "code",
      "source": [
        "#np.sum(np.abs(ecef_data[0,:] - ecef_data[1,:]))"
      ],
      "metadata": {
        "colab": {
          "base_uri": "https://localhost:8080/"
        },
        "id": "-q8IUQeu-fNR",
        "outputId": "d5ae81e9-c650-46e2-d434-e6fad9a6a8e8"
      },
      "execution_count": null,
      "outputs": [
        {
          "output_type": "execute_result",
          "data": {
            "text/plain": [
              "539.7425637771375"
            ]
          },
          "metadata": {},
          "execution_count": 72
        }
      ]
    },
    {
      "cell_type": "code",
      "source": [
        "# Modo 1\n",
        "def distanceGPS(latitude1, longitude1, latitude2, longitude2):\n",
        "    R = 6371000  # radius of the Earth in meters\n",
        "    delta_lat = np.radians(latitude2 - latitude1)\n",
        "    delta_long = np.radians(longitude2 - longitude1)\n",
        "\n",
        "    aa = (np.sin(delta_lat/2))**2 + np.cos(np.radians(latitude1)) * np.cos(np.radians(latitude2)) * (np.sin(delta_long/2))**2\n",
        "    cc = 2 * np.arctan2(np.sqrt(aa), np.sqrt(1-aa))\n",
        "    d = R * cc  # The distance in meters\n",
        "\n",
        "    return d\n",
        "\n",
        "# Example usage\n",
        "lat1, lon1 = data[0, 0], data[0, 1]\n",
        "lat2, lon2 = data[1, 0], data[1, 1]\n",
        "print(distanceGPS(lat1, lon1, lat2, lon2))"
      ],
      "metadata": {
        "colab": {
          "base_uri": "https://localhost:8080/"
        },
        "id": "AMu7XY4SKluf",
        "outputId": "d5429e44-c1d1-4c73-b9ee-830f83c20a83"
      },
      "execution_count": null,
      "outputs": [
        {
          "output_type": "stream",
          "name": "stdout",
          "text": [
            "320.79893069472706\n"
          ]
        }
      ]
    },
    {
      "cell_type": "code",
      "source": [
        "# Modo 2\n",
        "def haversine_distance(lat1, lon1, lat2, lon2):\n",
        "    # Converter graus em radianos\n",
        "    lat1, lon1, lat2, lon2 = map(math.radians, [lat1, lon1, lat2, lon2])\n",
        "\n",
        "    # Diferenças\n",
        "    dlat = lat2 - lat1\n",
        "    dlon = lon2 - lon1\n",
        "\n",
        "    # Fórmula haversine\n",
        "    a = math.sin(dlat / 2)**2 + math.cos(lat1) * math.cos(lat2) * math.sin(dlon / 2)**2\n",
        "    c = 2 * math.atan2(math.sqrt(a), math.sqrt(1 - a))\n",
        "\n",
        "    # Raio da Terra em km\n",
        "    R = 6371.0\n",
        "\n",
        "    # Distância em km\n",
        "    distance = R * c\n",
        "\n",
        "    return distance\n",
        "\n",
        "# Coordenadas\n",
        "lat_ribeirao, lon_ribeirao = -21.1775000, -47.8103000\n",
        "lat_sp, lon_sp = -23.5505200, -46.6333080\n",
        "\n",
        "# Cálculo da distância\n",
        "distance = haversine_distance(lat_ribeirao, lon_ribeirao, lat_sp, lon_sp)\n",
        "print(f'{distance} km')  # Distância entre Ribeirão Preto e São Paulo"
      ],
      "metadata": {
        "colab": {
          "base_uri": "https://localhost:8080/"
        },
        "id": "m8myv7TcP5m0",
        "outputId": "5c72813a-3cea-41f5-dd7c-c981eeb9c3bc"
      },
      "execution_count": null,
      "outputs": [
        {
          "output_type": "stream",
          "name": "stdout",
          "text": [
            "290.29582074920955 km\n"
          ]
        }
      ]
    }
  ]
}
