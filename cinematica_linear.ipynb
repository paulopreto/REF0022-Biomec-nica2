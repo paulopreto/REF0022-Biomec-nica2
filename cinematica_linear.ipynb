{
  "nbformat": 4,
  "nbformat_minor": 0,
  "metadata": {
    "colab": {
      "provenance": [],
      "authorship_tag": "ABX9TyMHQAt7d/n0IilSXijvLywX",
      "include_colab_link": true
    },
    "kernelspec": {
      "name": "python3",
      "display_name": "Python 3"
    },
    "language_info": {
      "name": "python"
    }
  },
  "cells": [
    {
      "cell_type": "markdown",
      "metadata": {
        "id": "view-in-github",
        "colab_type": "text"
      },
      "source": [
        "<a href=\"https://colab.research.google.com/github/paulopreto/REF0161-Biomecanica2/blob/main/cinematica_linear.ipynb\" target=\"_parent\"><img src=\"https://colab.research.google.com/assets/colab-badge.svg\" alt=\"Open In Colab\"/></a>"
      ]
    },
    {
      "cell_type": "code",
      "execution_count": null,
      "metadata": {
        "id": "GgleBLYuKdnn"
      },
      "outputs": [],
      "source": [
        "import plotly.graph_objects as go\n",
        "\n",
        "# Sistema de referência 1D\n",
        "def plot_1D():\n",
        "    fig = go.Figure()\n",
        "    fig.add_trace(go.Scatter(x=[0, 10], y=[0, 0], mode=\"lines\", name=\"1D\"))\n",
        "    fig.update_layout(title=\"Sistema de Referência 1D\", xaxis_title=\"X\")\n",
        "    fig.show()\n",
        "\n",
        "# Sistema de referência 2D\n",
        "def plot_2D():\n",
        "    fig = go.Figure()\n",
        "    fig.add_trace(go.Scatter(x=[0, 10], y=[0, 0], mode=\"lines\", name=\"X-axis\"))\n",
        "    fig.add_trace(go.Scatter(x=[0, 0], y=[0, 10], mode=\"lines\", name=\"Y-axis\"))\n",
        "    fig.update_layout(title=\"Sistema de Referência 2D\", xaxis_title=\"X\", yaxis_title=\"Y\")\n",
        "    fig.show()\n",
        "\n",
        "# Sistema de referência 3D\n",
        "def plot_3D():\n",
        "    fig = go.Figure(data=[go.Scatter3d(x=[0, 10], y=[0, 0], z=[0, 0], mode='lines', name=\"X-axis\"),\n",
        "                          go.Scatter3d(x=[0, 0], y=[0, 10], z=[0, 0], mode='lines', name=\"Y-axis\"),\n",
        "                          go.Scatter3d(x=[0, 0], y=[0, 0], z=[0, 10], mode='lines', name=\"Z-axis\")])\n",
        "    fig.update_layout(scene=dict(xaxis_title=\"X\", yaxis_title=\"Y\", zaxis_title=\"Z\"), title=\"Sistema de Referência 3D\")\n",
        "    fig.show()\n",
        "\n",
        "# Para visualizar:\n",
        "plot_1D()\n",
        "plot_2D()\n",
        "plot_3D()\n"
      ]
    }
  ]
}